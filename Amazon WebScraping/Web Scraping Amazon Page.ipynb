{
 "cells": [
  {
   "cell_type": "code",
   "execution_count": 10,
   "id": "11d5196b",
   "metadata": {},
   "outputs": [],
   "source": [
    "import requests\n",
    "from bs4 import BeautifulSoup\n",
    "import time\n",
    "import datetime\n",
    "import smtplib"
   ]
  },
  {
   "cell_type": "markdown",
   "id": "69edf1f1",
   "metadata": {},
   "source": [
    "## Connect to Website and pull in data"
   ]
  },
  {
   "cell_type": "code",
   "execution_count": 49,
   "id": "7323cb0a",
   "metadata": {},
   "outputs": [
    {
     "name": "stdout",
     "output_type": "stream",
     "text": [
      "        DUDEME Data Nerd | Programmer T Shirt | Coding T Shirt for Coders | Developer T Shirt | Round Neck Cotton T-Shirt | Geek Half Sleeve T Shirt for Men & Women        ₹499\n"
     ]
    }
   ],
   "source": [
    "url='https://www.amazon.in/DUDEME-Programmer-Coding-Developer-T-Shirt/dp/B08SFHKHV3/ref=sr_1_1?crid=36HOP97CRKX2I&keywords=data+%2B+analyst+%2B+tshirt&qid=1672937985&sprefix=data+%2B+analyst+%2B+tshirt%2Caps%2C348&sr=8-1'\n",
    "headers = {\"User-Agent\": \"Mozilla/5.0 (Windows NT 10.0; Win64; x64) AppleWebKit/537.36 (KHTML, like Gecko) Chrome/78.0.3904.108 Safari/537.36\", \"Accept-Encoding\":\"gzip, deflate\", \"Accept\":\"text/html,application/xhtml+xml,application/xml;q=0.9,*/*;q=0.8\", \"DNT\":\"1\",\"Connection\":\"close\", \"Upgrade-Insecure-Requests\":\"1\"}\n",
    "\n",
    "\n",
    "source=requests.get(url, headers=headers)\n",
    "soup=BeautifulSoup(source.text, 'html.parser')\n",
    "title=soup.find('span', id=\"productTitle\").text\n",
    "price=soup.find('span', class_=\"a-offscreen\").text\n",
    "\n",
    "print(title, price)\n",
    "\n"
   ]
  },
  {
   "cell_type": "markdown",
   "id": "3cebeabf",
   "metadata": {},
   "source": [
    "## Clean up the data a little bit"
   ]
  },
  {
   "cell_type": "code",
   "execution_count": 50,
   "id": "624a55b9",
   "metadata": {},
   "outputs": [
    {
     "name": "stdout",
     "output_type": "stream",
     "text": [
      "DUDEME Data Nerd | Programmer T Shirt | Coding T Shirt for Coders | Developer T Shirt | Round Neck Cotton T-Shirt | Geek Half Sleeve T Shirt for Men & Women\n",
      "499\n"
     ]
    }
   ],
   "source": [
    "price = price.strip()[1:]\n",
    "title = title.strip()\n",
    "\n",
    "print(title)\n",
    "print(price)"
   ]
  },
  {
   "cell_type": "markdown",
   "id": "62d75b1e",
   "metadata": {},
   "source": [
    "## Create a Timestamp for your output to track when data was collected\n"
   ]
  },
  {
   "cell_type": "code",
   "execution_count": 51,
   "id": "0ff38f1a",
   "metadata": {},
   "outputs": [
    {
     "name": "stdout",
     "output_type": "stream",
     "text": [
      "2023-01-05\n"
     ]
    }
   ],
   "source": [
    "today = datetime.date.today()\n",
    "print(today)"
   ]
  },
  {
   "cell_type": "markdown",
   "id": "008540d3",
   "metadata": {},
   "source": [
    "## Create CSV and write headers and data into the file"
   ]
  },
  {
   "cell_type": "code",
   "execution_count": 52,
   "id": "5f2f1f48",
   "metadata": {},
   "outputs": [],
   "source": [
    "import csv \n",
    "\n",
    "header = ['Title', 'Price', 'Date']\n",
    "data = [title, price, today]\n",
    "\n",
    "\n",
    "with open('AmazonWebScraperDataset.csv', 'w', newline='', encoding='UTF8') as f:\n",
    "    writer = csv.writer(f)\n",
    "    writer.writerow(header)\n",
    "    writer.writerow(data)\n",
    "    "
   ]
  },
  {
   "cell_type": "code",
   "execution_count": 56,
   "id": "b58492c4",
   "metadata": {},
   "outputs": [
    {
     "name": "stdout",
     "output_type": "stream",
     "text": [
      "                                               Title  Price        Date\n",
      "0  DUDEME Data Nerd | Programmer T Shirt | Coding...    499  2023-01-05\n"
     ]
    }
   ],
   "source": [
    "import pandas as pd\n",
    "\n",
    "df = pd.read_csv('AmazonWebScraperDataset.csv')\n",
    "\n",
    "print(df)"
   ]
  },
  {
   "cell_type": "markdown",
   "id": "4b62d804",
   "metadata": {},
   "source": [
    "## Now we are appending data to the csv"
   ]
  },
  {
   "cell_type": "code",
   "execution_count": 58,
   "id": "ed3aecd9",
   "metadata": {},
   "outputs": [],
   "source": [
    "with open('AmazonWebScraperDataset.csv', 'a+', newline='', encoding='UTF8') as f:\n",
    "    writer = csv.writer(f)\n",
    "    writer.writerow(data)"
   ]
  },
  {
   "cell_type": "markdown",
   "id": "652ba83e",
   "metadata": {},
   "source": [
    "## Combine all of the above code into one function\n"
   ]
  },
  {
   "cell_type": "code",
   "execution_count": 63,
   "id": "0cae5e74",
   "metadata": {},
   "outputs": [],
   "source": [
    "def check_price():\n",
    "  url='https://www.amazon.in/DUDEME-Programmer-Coding-Developer-T-Shirt/dp/B08SFHKHV3/ref=sr_1_1?crid=36HOP97CRKX2I&keywords=data+%2B+analyst+%2B+tshirt&qid=1672937985&sprefix=data+%2B+analyst+%2B+tshirt%2Caps%2C348&sr=8-1'\n",
    "  headers = {\"User-Agent\": \"Mozilla/5.0 (Windows NT 10.0; Win64; x64) AppleWebKit/537.36 (KHTML, like Gecko) Chrome/78.0.3904.108 Safari/537.36\", \"Accept-Encoding\":\"gzip, deflate\", \"Accept\":\"text/html,application/xhtml+xml,application/xml;q=0.9,*/*;q=0.8\", \"DNT\":\"1\",\"Connection\":\"close\", \"Upgrade-Insecure-Requests\":\"1\"}\n",
    "\n",
    "\n",
    "  source=requests.get(url, headers=headers)\n",
    "  soup=BeautifulSoup(source.text, 'html.parser')\n",
    "  title=soup.find('span', id=\"productTitle\").text\n",
    "  price=soup.find('span', class_=\"a-offscreen\").text\n",
    "\n",
    "  price = price.strip()[1:]\n",
    "  title = title.strip()\n",
    "\n",
    "  import datetime\n",
    "\n",
    "  today = datetime.date.today()\n",
    "    \n",
    "  import csv \n",
    "  header = ['Title', 'Price', 'Date']\n",
    "  data = [title, price, today]\n",
    "\n",
    "  with open('AmazonWebScraperDataset.csv', 'a+', newline='', encoding='UTF8') as f:\n",
    "        writer = csv.writer(f)\n",
    "        writer.writerow(data)\n",
    " \n",
    "    "
   ]
  },
  {
   "cell_type": "markdown",
   "id": "89a19793",
   "metadata": {},
   "source": [
    "## Runs check_price after a set time and inputs data into your CSV\n"
   ]
  },
  {
   "cell_type": "code",
   "execution_count": null,
   "id": "9dc87def",
   "metadata": {},
   "outputs": [],
   "source": [
    "while(True):\n",
    "    check_price()\n",
    "    time.sleep(86400)"
   ]
  },
  {
   "cell_type": "code",
   "execution_count": null,
   "id": "328879da",
   "metadata": {},
   "outputs": [],
   "source": [
    "import pandas as pd\n",
    "\n",
    "df = pd.read_csv('AmazonWebScraperDataset.csv')\n",
    "\n",
    "print(df)"
   ]
  },
  {
   "cell_type": "markdown",
   "id": "a5717b22",
   "metadata": {},
   "source": [
    "## If uou want to try sending yourself an email (just for fun) when a price hits below a certain level you can try it out with this script\n"
   ]
  },
  {
   "cell_type": "code",
   "execution_count": null,
   "id": "cdfa5589",
   "metadata": {},
   "outputs": [],
   "source": [
    "def send_mail():\n",
    "    server = smtplib.SMTP_SSL('smtp.gmail.com',465)\n",
    "    server.ehlo()\n",
    "    #server.starttls()\n",
    "    server.ehlo()\n",
    "    server.login('samarthprakash113@gmail.com','xxxxxxxxxxxxxx')\n",
    "    \n",
    "    subject = \"The Shirt you want is below 200! Now is your chance to buy!\"\n",
    "    body = \"Samarth, This is the moment we have been waiting for. Now is your chance to pick up the shirt of your dreams. Don't mess it up! Link here: 'https://www.amazon.in/DUDEME-Programmer-Coding-Developer-T-Shirt/dp/B08SFHKHV3/ref=sr_1_1?crid=36HOP97CRKX2I&keywords=data+%2B+analyst+%2B+tshirt&qid=1672937985&sprefix=data+%2B+analyst+%2B+tshirt%2Caps%2C348&sr=8-1'\n",
    "    msg = f\"Subject: {subject}\\n\\n{body}\"\n",
    "    \n",
    "    server.sendmail(\n",
    "        'samarthprakash113@gmail.com',\n",
    "        msg\n",
    "     \n",
    "    )"
   ]
  },
  {
   "cell_type": "code",
   "execution_count": null,
   "id": "1c6534fc",
   "metadata": {},
   "outputs": [],
   "source": []
  }
 ],
 "metadata": {
  "kernelspec": {
   "display_name": "Python 3 (ipykernel)",
   "language": "python",
   "name": "python3"
  },
  "language_info": {
   "codemirror_mode": {
    "name": "ipython",
    "version": 3
   },
   "file_extension": ".py",
   "mimetype": "text/x-python",
   "name": "python",
   "nbconvert_exporter": "python",
   "pygments_lexer": "ipython3",
   "version": "3.11.1"
  }
 },
 "nbformat": 4,
 "nbformat_minor": 5
}
